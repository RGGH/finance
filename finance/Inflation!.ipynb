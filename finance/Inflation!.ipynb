{
 "cells": [
  {
   "cell_type": "code",
   "execution_count": 395,
   "metadata": {},
   "outputs": [],
   "source": [
    "# https://towardsdatascience.com/introducing-the-time-value-of-money-with-python-20520ee51dfc"
   ]
  },
  {
   "cell_type": "markdown",
   "metadata": {},
   "source": [
    "# Time Value of Money with Python"
   ]
  },
  {
   "cell_type": "code",
   "execution_count": 396,
   "metadata": {},
   "outputs": [],
   "source": [
    "import numpy_financial as npf\n",
    "import numpy as np"
   ]
  },
  {
   "cell_type": "markdown",
   "metadata": {},
   "source": [
    "---"
   ]
  },
  {
   "cell_type": "markdown",
   "metadata": {},
   "source": [
    "### Interest on 1000 over 1 year with no additional contributions {1. Future value} - use 3% interest rate"
   ]
  },
  {
   "cell_type": "code",
   "execution_count": 397,
   "metadata": {},
   "outputs": [],
   "source": [
    "x = npf.fv(0.03, 1, 0, 1000)"
   ]
  },
  {
   "cell_type": "code",
   "execution_count": 398,
   "metadata": {},
   "outputs": [
    {
     "name": "stdout",
     "output_type": "stream",
     "text": [
      "At end of 1 year: 1030.0\n"
     ]
    }
   ],
   "source": [
    "print(f\"At end of 1 year:\", abs(x))"
   ]
  },
  {
   "cell_type": "markdown",
   "metadata": {},
   "source": [
    "---"
   ]
  },
  {
   "cell_type": "markdown",
   "metadata": {},
   "source": [
    "### Work back from what you want in 10 years time : {2. Present value} - use 3% interest rate"
   ]
  },
  {
   "cell_type": "markdown",
   "metadata": {},
   "source": [
    "### e.g How much should we deposit today?"
   ]
  },
  {
   "cell_type": "code",
   "execution_count": 399,
   "metadata": {},
   "outputs": [],
   "source": [
    "y = npf.pv(0.03, 10, 0, 1500)"
   ]
  },
  {
   "cell_type": "code",
   "execution_count": 400,
   "metadata": {},
   "outputs": [
    {
     "name": "stdout",
     "output_type": "stream",
     "text": [
      "Start with this lump sum investment to get 1500 in 10 years: 1116.1408723450875\n"
     ]
    }
   ],
   "source": [
    "print(f\"Start with this lump sum investment to get 1500 in 10 years:\", abs(y))"
   ]
  },
  {
   "cell_type": "markdown",
   "metadata": {},
   "source": [
    "---"
   ]
  },
  {
   "cell_type": "markdown",
   "metadata": {},
   "source": [
    "### Today's equivalent of the ending amount {3. Discounted Cash Flow (DCF)} - use 5% interest rate"
   ]
  },
  {
   "cell_type": "code",
   "execution_count": 401,
   "metadata": {},
   "outputs": [],
   "source": [
    "# Let’s presume we are planning for investment (e.g. stock, bond or mortgage, etc) \n",
    "# which will give us a future amount of $100,000 after 20 years. \n",
    "# The question here is what is actually the future cash value of $100,000 after 20 years worth today? \n",
    "# ! How much money should we start our investment to achieve our target?'''"
   ]
  },
  {
   "cell_type": "code",
   "execution_count": 402,
   "metadata": {},
   "outputs": [],
   "source": [
    "z20 = npf.pv(0.05, 20, 0, 100000)"
   ]
  },
  {
   "cell_type": "code",
   "execution_count": 403,
   "metadata": {},
   "outputs": [
    {
     "name": "stdout",
     "output_type": "stream",
     "text": [
      "37688.95\n"
     ]
    }
   ],
   "source": [
    "print(round(abs(z20),2))"
   ]
  },
  {
   "cell_type": "code",
   "execution_count": 404,
   "metadata": {},
   "outputs": [],
   "source": [
    "# i.e future cash flow of $100,000 is discounted to a present value of $37688.95 with a 5% rate per year"
   ]
  },
  {
   "cell_type": "code",
   "execution_count": 405,
   "metadata": {},
   "outputs": [],
   "source": [
    "z30 = npf.pv(0.05, 30, 0, 100000) # change from 20 years to 30 years"
   ]
  },
  {
   "cell_type": "code",
   "execution_count": 406,
   "metadata": {},
   "outputs": [
    {
     "name": "stdout",
     "output_type": "stream",
     "text": [
      "23137.74\n"
     ]
    }
   ],
   "source": [
    "print(round(abs(z30),2))"
   ]
  },
  {
   "cell_type": "code",
   "execution_count": 407,
   "metadata": {},
   "outputs": [],
   "source": [
    "# Now the future cash flow of $100,000 is discounted to a present value of $23137.74 with a 5% rate per year"
   ]
  },
  {
   "cell_type": "markdown",
   "metadata": {},
   "source": [
    "---"
   ]
  },
  {
   "cell_type": "markdown",
   "metadata": {},
   "source": [
    "##  Student Debt : Loan cost"
   ]
  },
  {
   "cell_type": "code",
   "execution_count": 408,
   "metadata": {},
   "outputs": [
    {
     "name": "stdout",
     "output_type": "stream",
     "text": [
      "44883.17\n"
     ]
    }
   ],
   "source": [
    "degree_years = 3\n",
    "\n",
    "fees_per_year = 9000 # add 4.1% per year x 3\n",
    "total_fees = 29275.13\n",
    "\n",
    "accomodation_per_year = 5000 # add 2% per year x 3\n",
    "total_accommodation = 15608.04\n",
    "\n",
    "total_degree_debt = (total_fees + total_accommodation)\n",
    "print(str(total_degree_debt))"
   ]
  },
  {
   "cell_type": "markdown",
   "metadata": {},
   "source": [
    "## Loan Repayment"
   ]
  },
  {
   "cell_type": "code",
   "execution_count": 409,
   "metadata": {},
   "outputs": [],
   "source": [
    "# https://www.gov.uk/repaying-your-student-loan/which-repayment-plan-you-are-on  (plan 2)\n",
    "# There’s no penalty for paying some or all of your loan off early.\n",
    "\n",
    "# If you have a Plan 2 student loan\n",
    "# You’ll only repay when your income is over £524 a week, £2,274 a month or £27,295 a year \n",
    "# (before tax and other deductions).\n",
    "\n",
    "# While you’re studying, interest is 4.1%.\n",
    "# After finish or leave your course : £27,296 to £49,130 \tRPI (currently 1.5%)**, plus up to 3%\n",
    "# Bullsh*t. RPI is currently 6%\n",
    "# https://www.ons.gov.uk/economy/inflationandpriceindices as of 17 November 2021**"
   ]
  },
  {
   "cell_type": "code",
   "execution_count": 410,
   "metadata": {},
   "outputs": [],
   "source": [
    "\n",
    "# Example\n",
    "\n",
    "# Your annual income is £28,800 and you are paid a regular monthly wage. \n",
    "# This means that each month your income is £2,400 (£28,800 divided by 12). \n",
    "# This is over the Plan 2 monthly threshold of £2,274.\n",
    "# Your income is £126 over the threshold (£2,400 minus £2,274). \n",
    "# You will pay back £11 (9% of £126) each month.\n"
   ]
  },
  {
   "cell_type": "code",
   "execution_count": 411,
   "metadata": {},
   "outputs": [],
   "source": [
    "# 1 year after leaving :\n",
    "repaid = 11 * 12\n",
    "(total_degree_debt - repaid)\n",
    "one_year_after_degree_debt = npf.fv(0.06, 1, 0, total_degree_debt)"
   ]
  },
  {
   "cell_type": "code",
   "execution_count": 412,
   "metadata": {},
   "outputs": [
    {
     "name": "stdout",
     "output_type": "stream",
     "text": [
      "-47576.1602\n"
     ]
    }
   ],
   "source": [
    "print(one_year_after_degree_debt)"
   ]
  },
  {
   "cell_type": "code",
   "execution_count": 413,
   "metadata": {},
   "outputs": [],
   "source": [
    "# 2 years after leaving : \n",
    "repaid2 = 11 * 12\n",
    "two_year_after_degree_debt = npf.fv(0.06, 1, 0, one_year_after_degree_debt) - repaid"
   ]
  },
  {
   "cell_type": "code",
   "execution_count": 414,
   "metadata": {},
   "outputs": [
    {
     "name": "stdout",
     "output_type": "stream",
     "text": [
      "50298.729812\n"
     ]
    }
   ],
   "source": [
    "print(two_year_after_degree_debt)"
   ]
  }
 ],
 "metadata": {
  "kernelspec": {
   "display_name": "Python 3",
   "language": "python",
   "name": "python3"
  },
  "language_info": {
   "codemirror_mode": {
    "name": "ipython",
    "version": 3
   },
   "file_extension": ".py",
   "mimetype": "text/x-python",
   "name": "python",
   "nbconvert_exporter": "python",
   "pygments_lexer": "ipython3",
   "version": "3.8.10"
  }
 },
 "nbformat": 4,
 "nbformat_minor": 4
}
